{
 "cells": [
  {
   "cell_type": "markdown",
   "id": "closed-faculty",
   "metadata": {},
   "source": [
    "# MPI multiple tasks"
   ]
  },
  {
   "cell_type": "markdown",
   "id": "distinct-upset",
   "metadata": {},
   "source": [
    "Lest start from imports"
   ]
  },
  {
   "cell_type": "code",
   "execution_count": null,
   "id": "focused-wilson",
   "metadata": {},
   "outputs": [],
   "source": [
    "import os\n",
    "from jobqueue_features import (\n",
    "    MPIEXEC,\n",
    "    CustomSLURMCluster,\n",
    ")\n",
    "\n",
    "from jobqueue_features import on_cluster, mpi_task, get_task_mpi_comm"
   ]
  },
  {
   "cell_type": "markdown",
   "id": "pointed-legislation",
   "metadata": {},
   "source": [
    "Let's define task script path."
   ]
  },
  {
   "cell_type": "code",
   "execution_count": null,
   "id": "interim-watson",
   "metadata": {},
   "outputs": [],
   "source": [
    "script_path = os.path.abspath(\n",
    "    os.path.join(os.getcwd(), \"docker_config\", \"slurm\", \"tutorial_tasks\", \"resources\", \"helloworld.py\")\n",
    ")"
   ]
  },
  {
   "cell_type": "markdown",
   "id": "major-tiger",
   "metadata": {},
   "source": [
    "Let's define cluster configuration."
   ]
  },
  {
   "cell_type": "code",
   "execution_count": null,
   "id": "vocal-norman",
   "metadata": {},
   "outputs": [],
   "source": [
    "common_kwargs = {\n",
    "    \"walltime\": \"00:04:00\",\n",
    "    \"cores_per_node\": 2,\n",
    "    \"minimum_cores\": 2,\n",
    "    \"hyperthreading_factor\": 1,\n",
    "    \"ntasks_per_node\": 2,\n",
    "    \"memory\": \"512 MB\",\n",
    "    \"mpi_mode\": True,\n",
    "    \"env_extra\": [\n",
    "        \"export OMPI_ALLOW_RUN_AS_ROOT_CONFIRM=1\",\n",
    "        \"export OMPI_ALLOW_RUN_AS_ROOT=1\",\n",
    "    ],\n",
    "    \"mpi_launcher\": MPIEXEC,\n",
    "    \"local_directory\": \"/tmp\",\n",
    "    \"queue\": \"batch\",\n",
    "}"
   ]
  },
  {
   "cell_type": "markdown",
   "id": "alien-system",
   "metadata": {},
   "source": [
    "Let's start cluster."
   ]
  },
  {
   "cell_type": "code",
   "execution_count": null,
   "id": "optional-signal",
   "metadata": {},
   "outputs": [],
   "source": [
    "custom_cluster = CustomSLURMCluster(\n",
    "    name=\"mpiMultiCluster\",\n",
    "    nodes=1,\n",
    "    maximum_jobs=2,\n",
    "    **common_kwargs\n",
    ")"
   ]
  },
  {
   "cell_type": "markdown",
   "id": "mature-profile",
   "metadata": {},
   "source": [
    "Let's define task."
   ]
  },
  {
   "cell_type": "code",
   "execution_count": null,
   "id": "satisfied-student",
   "metadata": {},
   "outputs": [],
   "source": [
    "@on_cluster(cluster=custom_cluster)\n",
    "@mpi_task(cluster_id=custom_cluster.name)\n",
    "def task(task_name):\n",
    "    import time\n",
    "    from mpi4py import MPI\n",
    "\n",
    "    comm = get_task_mpi_comm()\n",
    "    size = comm.Get_size()\n",
    "    name = MPI.Get_processor_name()\n",
    "    all_nodes = comm.gather(name, root=0)\n",
    "    if all_nodes:\n",
    "        all_nodes = list(set(all_nodes))\n",
    "        all_nodes.sort()\n",
    "    else:\n",
    "        all_nodes = []\n",
    "    # Since it is a return  value it will only get printed by root\n",
    "    return_string = \"Running %d tasks of type %s on nodes %s.\" % (\n",
    "        size,\n",
    "        task_name,\n",
    "        all_nodes,\n",
    "    )\n",
    "\n",
    "    # Add a sleep to make the task substantial enough to require scaling\n",
    "    time.sleep(1)\n",
    "    return return_string"
   ]
  },
  {
   "cell_type": "markdown",
   "id": "compact-drive",
   "metadata": {},
   "source": [
    "Then check the execution of it:"
   ]
  },
  {
   "cell_type": "code",
   "execution_count": null,
   "id": "hollywood-politics",
   "metadata": {},
   "outputs": [],
   "source": [
    "tasks = []\n",
    "for x in range(20):\n",
    "    tasks.append(\n",
    "        task(\"task-{}\".format(x))\n",
    "    )\n",
    "c1_count = 0\n",
    "c2_count = 0\n",
    "for job in tasks:\n",
    "    result = job.result()\n",
    "    if 'c1' in result:\n",
    "        c1_count += 1\n",
    "    elif 'c2' in result:\n",
    "        c2_count += 1\n",
    "print(\"c1: {} \\nc2: {}\".format(c1_count, c2_count))"
   ]
  },
  {
   "cell_type": "markdown",
   "id": "completed-flood",
   "metadata": {},
   "source": [
    "It's alive!"
   ]
  }
 ],
 "metadata": {
  "kernelspec": {
   "display_name": "Python 3",
   "language": "python",
   "name": "python3"
  },
  "language_info": {
   "codemirror_mode": {
    "name": "ipython",
    "version": 3
   },
   "file_extension": ".py",
   "mimetype": "text/x-python",
   "name": "python",
   "nbconvert_exporter": "python",
   "pygments_lexer": "ipython3",
   "version": "3.6.12"
  }
 },
 "nbformat": 4,
 "nbformat_minor": 5
}