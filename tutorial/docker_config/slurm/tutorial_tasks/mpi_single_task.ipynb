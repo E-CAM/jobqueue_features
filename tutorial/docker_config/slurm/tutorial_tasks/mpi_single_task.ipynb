{
 "cells": [
  {
   "cell_type": "markdown",
   "id": "painted-gamma",
   "metadata": {},
   "source": [
    "# MPI single task"
   ]
  },
  {
   "cell_type": "markdown",
   "id": "skilled-trustee",
   "metadata": {},
   "source": [
    "Lest start from imports"
   ]
  },
  {
   "cell_type": "code",
   "execution_count": null,
   "id": "taken-segment",
   "metadata": {},
   "outputs": [],
   "source": [
    "import os\n",
    "from jobqueue_features import (\n",
    "    MPIEXEC,\n",
    "    CustomSLURMCluster,\n",
    ")\n",
    "\n",
    "from jobqueue_features import on_cluster, mpi_task, get_task_mpi_comm"
   ]
  },
  {
   "cell_type": "markdown",
   "id": "derived-southwest",
   "metadata": {},
   "source": [
    "Let's define task script path."
   ]
  },
  {
   "cell_type": "code",
   "execution_count": null,
   "id": "further-madison",
   "metadata": {},
   "outputs": [],
   "source": [
    "script_path = os.path.abspath(\n",
    "    os.path.join(os.getcwd(), \"docker_config\", \"slurm\", \"tutorial_tasks\", \"resources\", \"helloworld.py\")\n",
    ")"
   ]
  },
  {
   "cell_type": "markdown",
   "id": "minute-migration",
   "metadata": {},
   "source": [
    "Let's define cluster configuration."
   ]
  },
  {
   "cell_type": "code",
   "execution_count": null,
   "id": "statewide-departure",
   "metadata": {},
   "outputs": [],
   "source": [
    "common_kwargs = {\n",
    "    \"walltime\": \"00:04:00\",\n",
    "    \"cores_per_node\": 2,\n",
    "    \"minimum_cores\": 2,\n",
    "    \"hyperthreading_factor\": 1,\n",
    "    \"ntasks_per_node\": 2,\n",
    "    \"memory\": \"512 MB\",\n",
    "    \"mpi_mode\": True,\n",
    "    \"env_extra\": [\n",
    "        \"export OMPI_ALLOW_RUN_AS_ROOT_CONFIRM=1\",\n",
    "        \"export OMPI_ALLOW_RUN_AS_ROOT=1\",\n",
    "    ],\n",
    "    \"mpi_launcher\": MPIEXEC,\n",
    "    \"local_directory\": \"/tmp\",\n",
    "    \"queue\": \"batch\",\n",
    "}"
   ]
  },
  {
   "cell_type": "markdown",
   "id": "martial-investigator",
   "metadata": {},
   "source": [
    "Let's start cluster."
   ]
  },
  {
   "cell_type": "code",
   "execution_count": null,
   "id": "medium-conditions",
   "metadata": {},
   "outputs": [],
   "source": [
    "custom_cluster = CustomSLURMCluster(\n",
    "    name=\"mpiCluster\",\n",
    "    nodes=2,\n",
    "    **common_kwargs\n",
    ")"
   ]
  },
  {
   "cell_type": "markdown",
   "id": "fundamental-crest",
   "metadata": {},
   "source": [
    "Let's define tasks."
   ]
  },
  {
   "cell_type": "code",
   "execution_count": null,
   "id": "mental-liability",
   "metadata": {},
   "outputs": [],
   "source": [
    "@on_cluster(cluster=custom_cluster)\n",
    "@mpi_task(cluster_id=custom_cluster.name)\n",
    "def task1(task_name):\n",
    "    from mpi4py import MPI\n",
    "\n",
    "    comm = get_task_mpi_comm()\n",
    "    size = comm.Get_size()\n",
    "    name = MPI.Get_processor_name()\n",
    "    all_nodes = comm.gather(name, root=0)\n",
    "    if all_nodes:\n",
    "        all_nodes = list(set(all_nodes))\n",
    "        all_nodes.sort()\n",
    "    else:\n",
    "        all_nodes = []\n",
    "    # Since it is a return  value it will only get printed by root\n",
    "    return_string = \"Running %d tasks of type %s on nodes %s.\" % (\n",
    "        size,\n",
    "        task_name,\n",
    "        all_nodes,\n",
    "    )\n",
    "    return return_string\n",
    "\n",
    "@on_cluster(cluster=custom_cluster)\n",
    "@mpi_task(cluster_id=custom_cluster.name)\n",
    "def task2(name, task_name=\"default\"):\n",
    "    comm = get_task_mpi_comm()\n",
    "    rank = comm.Get_rank()\n",
    "    # This only appears in the slurm job output\n",
    "    return_string = \"Hi %s, my rank is %d for task of type %s\" % (\n",
    "        name,\n",
    "        rank,\n",
    "        task_name,\n",
    "    )\n",
    "    return return_string"
   ]
  },
  {
   "cell_type": "markdown",
   "id": "round-lewis",
   "metadata": {},
   "source": [
    "First run our tasks:"
   ]
  },
  {
   "cell_type": "code",
   "execution_count": null,
   "id": "micro-hayes",
   "metadata": {},
   "outputs": [],
   "source": [
    "tasks = []\n",
    "tasks.append(\n",
    "    task1(\"task1\")\n",
    ")\n",
    "tasks.append(\n",
    "    task1(\"task1, 2nd iteration\")\n",
    ")\n",
    "tasks.append(\n",
    "    task2(\"Alan\", task_name=\"Task 2\")\n",
    ")"
   ]
  },
  {
   "cell_type": "markdown",
   "id": "bacterial-blind",
   "metadata": {},
   "source": [
    "Then check the results of it:"
   ]
  },
  {
   "cell_type": "code",
   "execution_count": null,
   "id": "verbal-jacket",
   "metadata": {},
   "outputs": [],
   "source": [
    "for task in tasks:\n",
    "    print(task.result())"
   ]
  },
  {
   "cell_type": "markdown",
   "id": "focal-relative",
   "metadata": {},
   "source": [
    "It's alive!"
   ]
  }
 ],
 "metadata": {
  "kernelspec": {
   "display_name": "Python 3",
   "language": "python",
   "name": "python3"
  },
  "language_info": {
   "codemirror_mode": {
    "name": "ipython",
    "version": 3
   },
   "file_extension": ".py",
   "mimetype": "text/x-python",
   "name": "python",
   "nbconvert_exporter": "python",
   "pygments_lexer": "ipython3",
   "version": "3.6.12"
  }
 },
 "nbformat": 4,
 "nbformat_minor": 5
}