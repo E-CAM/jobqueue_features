{
 "cells": [
  {
   "cell_type": "markdown",
   "id": "critical-ghost",
   "metadata": {},
   "source": [
    "# MPI multiple wrap"
   ]
  },
  {
   "cell_type": "markdown",
   "id": "intelligent-warrant",
   "metadata": {},
   "source": [
    "Lest start from imports"
   ]
  },
  {
   "cell_type": "code",
   "execution_count": null,
   "id": "pressing-amateur",
   "metadata": {},
   "outputs": [],
   "source": [
    "import os\n",
    "from jobqueue_features import (\n",
    "    MPIEXEC,\n",
    "    CustomSLURMCluster,\n",
    ")\n",
    "\n",
    "from jobqueue_features import mpi_wrap, on_cluster, mpi_task"
   ]
  },
  {
   "cell_type": "markdown",
   "id": "silver-costume",
   "metadata": {},
   "source": [
    "Let's define task script path."
   ]
  },
  {
   "cell_type": "code",
   "execution_count": null,
   "id": "willing-consequence",
   "metadata": {},
   "outputs": [],
   "source": [
    "script_path = os.path.abspath(\n",
    "    os.path.join(os.getcwd(), \"resources\", \"helloworld.py\")\n",
    ")"
   ]
  },
  {
   "cell_type": "markdown",
   "id": "affecting-helmet",
   "metadata": {},
   "source": [
    "Let's define cluster configuration."
   ]
  },
  {
   "cell_type": "code",
   "execution_count": null,
   "id": "federal-commissioner",
   "metadata": {},
   "outputs": [],
   "source": [
    "common_kwargs = {\n",
    "    \"walltime\": \"00:04:00\",\n",
    "    \"cores_per_node\": 2,\n",
    "    \"minimum_cores\": 2,\n",
    "    \"hyperthreading_factor\": 1,\n",
    "    \"ntasks_per_node\": 2,\n",
    "    \"memory\": \"512 MB\",\n",
    "    \"mpi_mode\": True,\n",
    "    \"env_extra\": [\n",
    "        \"export OMPI_ALLOW_RUN_AS_ROOT_CONFIRM=1\",\n",
    "        \"export OMPI_ALLOW_RUN_AS_ROOT=1\",\n",
    "    ],\n",
    "    \"mpi_launcher\": MPIEXEC,\n",
    "    \"local_directory\": \"/tmp\",\n",
    "    \"queue\": \"batch\",\n",
    "}"
   ]
  },
  {
   "cell_type": "markdown",
   "id": "noted-starter",
   "metadata": {},
   "source": [
    "Let's start cluster."
   ]
  },
  {
   "cell_type": "code",
   "execution_count": null,
   "id": "based-peter",
   "metadata": {},
   "outputs": [],
   "source": [
    "multi_fork_cluster = CustomSLURMCluster(\n",
    "    name=\"multi_fork_cluster\",\n",
    "    fork_mpi=True,\n",
    "    nodes=1,\n",
    "    maximum_jobs=2,\n",
    "    **common_kwargs\n",
    ")"
   ]
  },
  {
   "cell_type": "markdown",
   "id": "endangered-breathing",
   "metadata": {},
   "source": [
    "Let's define task."
   ]
  },
  {
   "cell_type": "code",
   "execution_count": null,
   "id": "light-armor",
   "metadata": {},
   "outputs": [],
   "source": [
    "@on_cluster(cluster=multi_fork_cluster)\n",
    "@mpi_task(cluster_id=multi_fork_cluster.name)\n",
    "def mpi_wrap_task(**kwargs):\n",
    "    return mpi_wrap(**kwargs)"
   ]
  },
  {
   "cell_type": "markdown",
   "id": "scientific-death",
   "metadata": {},
   "source": [
    "First check if we can construct the command:"
   ]
  },
  {
   "cell_type": "code",
   "execution_count": null,
   "id": "american-evans",
   "metadata": {},
   "outputs": [],
   "source": [
    "result = mpi_wrap_task(\n",
    "    executable=\"python\",\n",
    "    exec_args=script_path,\n",
    "    return_wrapped_command=True\n",
    ")\n",
    "result = result.result()\n",
    "print(result)"
   ]
  },
  {
   "cell_type": "markdown",
   "id": "absent-myanmar",
   "metadata": {},
   "source": [
    "Then check the execution of it:"
   ]
  },
  {
   "cell_type": "code",
   "execution_count": null,
   "id": "executed-willow",
   "metadata": {},
   "outputs": [],
   "source": [
    "tasks = []\n",
    "for x in range(100):\n",
    "    tasks.append(\n",
    "        (\n",
    "            mpi_wrap_task(\n",
    "                executable=\"python\",\n",
    "                exec_args=script_path\n",
    "            )\n",
    "        )\n",
    "    )\n",
    "c1_count = 0\n",
    "c2_count = 0\n",
    "for job in tasks:\n",
    "    result = job.result()[\"out\"]\n",
    "    if 'c1'.encode() in result:\n",
    "        c1_count += 1\n",
    "    elif 'c2'.encode() in result:\n",
    "        c2_count += 1\n",
    "print(\"c1: {} \\nc2: {}\".format(c1_count, c2_count))"
   ]
  },
  {
   "cell_type": "markdown",
   "id": "brilliant-jamaica",
   "metadata": {},
   "source": [
    "It's alive!"
   ]
  }
 ],
 "metadata": {
  "kernelspec": {
   "display_name": "Python 3",
   "language": "python",
   "name": "python3"
  },
  "language_info": {
   "codemirror_mode": {
    "name": "ipython",
    "version": 3
   },
   "file_extension": ".py",
   "mimetype": "text/x-python",
   "name": "python",
   "nbconvert_exporter": "python",
   "pygments_lexer": "ipython3",
   "version": "3.6.12"
  }
 },
 "nbformat": 4,
 "nbformat_minor": 5
}