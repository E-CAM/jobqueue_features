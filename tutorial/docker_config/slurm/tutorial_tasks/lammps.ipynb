{
 "cells": [
  {
   "cell_type": "code",
   "execution_count": null,
   "id": "hired-atlantic",
   "metadata": {},
   "outputs": [],
   "source": [
    "import os\n",
    "from jobqueue_features import (\n",
    "    MPIEXEC,\n",
    "    CustomSLURMCluster,\n",
    ")\n",
    "\n",
    "from jobqueue_features import on_cluster, mpi_task, get_task_mpi_comm\n",
    "\n",
    "common_kwargs = {\n",
    "    \"walltime\": \"00:04:00\",\n",
    "    \"cores_per_node\": 2,\n",
    "    \"minimum_cores\": 2,\n",
    "    \"hyperthreading_factor\": 1,\n",
    "    \"ntasks_per_node\": 2,\n",
    "    \"memory\": \"512 MB\",\n",
    "    \"mpi_mode\": True,\n",
    "    \"env_extra\": [\n",
    "        \"export OMPI_ALLOW_RUN_AS_ROOT_CONFIRM=1\",\n",
    "        \"export OMPI_ALLOW_RUN_AS_ROOT=1\",\n",
    "    ],\n",
    "    \"mpi_launcher\": MPIEXEC,\n",
    "    \"local_directory\": \"/tmp\",\n",
    "    \"queue\": \"batch\",\n",
    "}"
   ]
  },
  {
   "cell_type": "code",
   "execution_count": null,
   "id": "european-papua",
   "metadata": {},
   "outputs": [],
   "source": [
    "custom_cluster = CustomSLURMCluster(\n",
    "    name=\"mpiMultiCluster\",\n",
    "    nodes=1,\n",
    "    maximum_jobs=2,\n",
    "    **common_kwargs\n",
    ")"
   ]
  },
  {
   "cell_type": "code",
   "execution_count": null,
   "id": "nutritional-works",
   "metadata": {},
   "outputs": [],
   "source": [
    "@mpi_task(cluster_id=custom_cluster.name)\n",
    "def lammps_task(input_file, run_steps=100):\n",
    "    from mpi4py import MPI\n",
    "    from lammps import PyLammps\n",
    "    \n",
    "    L = PyLammps()      # Initialise LAMMPS\n",
    "    L.file(input_file)  # Read the input file\n",
    "    L.run(run_steps)    # Simulate the system\n",
    "\n",
    "    if MPI.COMM_WORLD.Get_rank()==0:\n",
    "        return \"Potential energy: %s\" % L.eval(\"pe\")\n",
    "    \n",
    "@on_cluster(cluster=custom_cluster)\n",
    "def my_lammps_job(input_file=\"in.melt\", run_steps=100):\n",
    "    return lammps_task(input_file, run_steps=run_steps)"
   ]
  },
  {
   "cell_type": "code",
   "execution_count": null,
   "id": "pacific-dispatch",
   "metadata": {},
   "outputs": [],
   "source": [
    "future = my_lammps_job(run_steps=2000)\n",
    "print(future.result())\n",
    "future.cancel()"
   ]
  }
 ],
 "metadata": {
  "kernelspec": {
   "display_name": "Python 3",
   "language": "python",
   "name": "python3"
  },
  "language_info": {
   "codemirror_mode": {
    "name": "ipython",
    "version": 3
   },
   "file_extension": ".py",
   "mimetype": "text/x-python",
   "name": "python",
   "nbconvert_exporter": "python",
   "pygments_lexer": "ipython3",
   "version": "3.8.5"
  }
 },
 "nbformat": 4,
 "nbformat_minor": 5
}
