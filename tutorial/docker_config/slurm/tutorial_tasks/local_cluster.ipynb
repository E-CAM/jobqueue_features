{
 "cells": [
  {
   "cell_type": "markdown",
   "id": "turned-devon",
   "metadata": {},
   "source": [
    "# Coc example"
   ]
  },
  {
   "cell_type": "markdown",
   "id": "colonial-think",
   "metadata": {},
   "source": [
    "Let's start from imports"
   ]
  },
  {
   "cell_type": "code",
   "execution_count": null,
   "id": "elementary-invitation",
   "metadata": {},
   "outputs": [],
   "source": [
    "import time\n",
    "from dask.distributed import LocalCluster\n",
    "from jobqueue_features.decorators import on_cluster, task\n",
    "from jobqueue_features.functions import set_default_cluster"
   ]
  },
  {
   "cell_type": "markdown",
   "id": "meaningful-barrel",
   "metadata": {},
   "source": [
    "Then define default cluster on `LocalCluster`."
   ]
  },
  {
   "cell_type": "code",
   "execution_count": null,
   "id": "every-period",
   "metadata": {},
   "outputs": [],
   "source": [
    "set_default_cluster(LocalCluster)"
   ]
  },
  {
   "cell_type": "markdown",
   "id": "enhanced-encoding",
   "metadata": {},
   "source": [
    "Let's define tasks."
   ]
  },
  {
   "cell_type": "code",
   "execution_count": null,
   "id": "polished-membership",
   "metadata": {},
   "outputs": [],
   "source": [
    "@task()\n",
    "def square(x):\n",
    "    return x ** 2"
   ]
  },
  {
   "cell_type": "markdown",
   "id": "studied-sport",
   "metadata": {},
   "source": [
    "Let's define task on our clusters"
   ]
  },
  {
   "cell_type": "code",
   "execution_count": null,
   "id": "balanced-startup",
   "metadata": {},
   "outputs": [],
   "source": [
    "@on_cluster()\n",
    "def main():\n",
    "    sq_tasks = list(map(square, range(1, 11)))\n",
    "    print([t.result() for t in sq_tasks])"
   ]
  },
  {
   "cell_type": "markdown",
   "id": "strategic-raleigh",
   "metadata": {},
   "source": [
    "Run it!"
   ]
  },
  {
   "cell_type": "code",
   "execution_count": null,
   "id": "relative-district",
   "metadata": {},
   "outputs": [],
   "source": [
    "if __name__ == \"__main__\":\n",
    "    start = time.time()\n",
    "    main()\n",
    "    print(\"Executed in {}\".format(time.time() - start))"
   ]
  },
  {
   "cell_type": "markdown",
   "id": "third-waterproof",
   "metadata": {
    "pycharm": {
     "name": "#%% md\n"
    }
   },
   "source": [
    "It's alive!"
   ]
  }
 ],
 "metadata": {
  "kernelspec": {
   "display_name": "Python 3",
   "language": "python",
   "name": "python3"
  },
  "language_info": {
   "codemirror_mode": {
    "name": "ipython",
    "version": 3
   },
   "file_extension": ".py",
   "mimetype": "text/x-python",
   "name": "python",
   "nbconvert_exporter": "python",
   "pygments_lexer": "ipython3",
   "version": "3.6.12"
  }
 },
 "nbformat": 4,
 "nbformat_minor": 5
}