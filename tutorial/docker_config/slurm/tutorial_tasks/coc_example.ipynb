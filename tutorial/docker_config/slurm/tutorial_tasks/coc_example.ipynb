{
 "cells": [
  {
   "cell_type": "markdown",
   "id": "foster-emperor",
   "metadata": {},
   "source": [
    "# Coc example"
   ]
  },
  {
   "cell_type": "markdown",
   "id": "healthy-glass",
   "metadata": {},
   "source": [
    "Let's start from imports."
   ]
  },
  {
   "cell_type": "code",
   "execution_count": null,
   "id": "reduced-tsunami",
   "metadata": {},
   "outputs": [],
   "source": [
    "import time\n",
    "from jobqueue_features.clusters import CustomSLURMCluster\n",
    "from jobqueue_features.decorators import task, on_cluster"
   ]
  },
  {
   "cell_type": "markdown",
   "id": "fitted-christmas",
   "metadata": {},
   "source": [
    "Let's define functions."
   ]
  },
  {
   "cell_type": "code",
   "execution_count": null,
   "id": "manual-collar",
   "metadata": {},
   "outputs": [],
   "source": [
    "def inc(x):\n",
    "    time.sleep(1)\n",
    "    return x + 1\n",
    "\n",
    "\n",
    "def mul(x):\n",
    "    time.sleep(1)\n",
    "    return x * 2"
   ]
  },
  {
   "cell_type": "markdown",
   "id": "favorite-error",
   "metadata": {},
   "source": [
    "Let's define tasks on our clusters."
   ]
  },
  {
   "cell_type": "code",
   "execution_count": null,
   "id": "spectacular-stadium",
   "metadata": {},
   "outputs": [],
   "source": [
    "@on_cluster(\n",
    "    cluster_id=\"inc-cluster\",\n",
    "    cluster=CustomSLURMCluster(name=\"inc-cluster\", walltime=\"00:04:00\"),\n",
    "    jobs=2,\n",
    ")\n",
    "@task(cluster_id=\"inc-cluster\")\n",
    "def increment_task(x):\n",
    "    return inc(x)\n",
    "\n",
    "\n",
    "@on_cluster(\n",
    "    cluster_id=\"mul-cluster\",\n",
    "    cluster=CustomSLURMCluster(name=\"mul-cluster\", walltime=\"00:04:00\"),\n",
    "    jobs=2,\n",
    ")\n",
    "@task(cluster_id=\"mul-cluster\")\n",
    "def multiplication_task(x):\n",
    "    return mul(x)"
   ]
  },
  {
   "cell_type": "markdown",
   "id": "judicial-recognition",
   "metadata": {},
   "source": [
    "Define what's going on:"
   ]
  },
  {
   "cell_type": "code",
   "execution_count": null,
   "id": "obvious-purple",
   "metadata": {},
   "outputs": [],
   "source": [
    "def main():\n",
    "    task1 = list(map(multiplication_task, range(10)))\n",
    "    task2 = list(map(increment_task, range(10)))\n",
    "    print([t.result() for t in task1])\n",
    "    print([t.result() for t in task2])"
   ]
  },
  {
   "cell_type": "markdown",
   "id": "catholic-factor",
   "metadata": {},
   "source": [
    "Run it!"
   ]
  },
  {
   "cell_type": "code",
   "execution_count": null,
   "id": "clear-grave",
   "metadata": {},
   "outputs": [],
   "source": [
    "if __name__ == \"__main__\":\n",
    "    start = time.time()\n",
    "    main()\n",
    "    print(\"Executed in {}\".format(time.time() - start))"
   ]
  },
  {
   "cell_type": "markdown",
   "id": "funky-incentive",
   "metadata": {},
   "source": [
    "It's alive!"
   ]
  }
 ],
 "metadata": {
  "kernelspec": {
   "display_name": "Python 3",
   "language": "python",
   "name": "python3"
  },
  "language_info": {
   "codemirror_mode": {
    "name": "ipython",
    "version": 3
   },
   "file_extension": ".py",
   "mimetype": "text/x-python",
   "name": "python",
   "nbconvert_exporter": "python",
   "pygments_lexer": "ipython3",
   "version": "3.6.12"
  }
 },
 "nbformat": 4,
 "nbformat_minor": 5
}