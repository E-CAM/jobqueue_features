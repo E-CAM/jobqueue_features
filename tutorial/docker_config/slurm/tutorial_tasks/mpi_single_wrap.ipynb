{
 "cells": [
  {
   "cell_type": "markdown",
   "id": "usual-omaha",
   "metadata": {},
   "source": [
    "# MPI single wrap"
   ]
  },
  {
   "cell_type": "markdown",
   "id": "posted-dollar",
   "metadata": {},
   "source": [
    "Lest start from imports"
   ]
  },
  {
   "cell_type": "code",
   "execution_count": null,
   "id": "basic-bulgarian",
   "metadata": {},
   "outputs": [],
   "source": [
    "import os\n",
    "from jobqueue_features import (\n",
    "    MPIEXEC,\n",
    "    CustomSLURMCluster,\n",
    ")\n",
    "\n",
    "from jobqueue_features import mpi_wrap, on_cluster, mpi_task"
   ]
  },
  {
   "cell_type": "markdown",
   "id": "lesser-nightmare",
   "metadata": {},
   "source": [
    "Let's defince task script path."
   ]
  },
  {
   "cell_type": "code",
   "execution_count": null,
   "id": "injured-engine",
   "metadata": {},
   "outputs": [],
   "source": [
    "script_path = os.path.abspath(\n",
    "    os.path.join(os.getcwd(), \"resources\", \"helloworld.py\")\n",
    ")"
   ]
  },
  {
   "cell_type": "markdown",
   "id": "reduced-society",
   "metadata": {},
   "source": [
    "Let's define cluster configuration."
   ]
  },
  {
   "cell_type": "code",
   "execution_count": null,
   "id": "atlantic-trader",
   "metadata": {},
   "outputs": [],
   "source": [
    "common_kwargs = {\n",
    "    \"walltime\": \"00:04:00\",\n",
    "    \"cores_per_node\": 2,\n",
    "    \"minimum_cores\": 2,\n",
    "    \"hyperthreading_factor\": 1,\n",
    "    \"ntasks_per_node\": 2,\n",
    "    \"memory\": \"256 MB\",\n",
    "    \"mpi_mode\": True,\n",
    "    \"env_extra\": [\n",
    "        \"export OMPI_ALLOW_RUN_AS_ROOT_CONFIRM=1\",\n",
    "        \"export OMPI_ALLOW_RUN_AS_ROOT=1\",\n",
    "    ],\n",
    "    \"mpi_launcher\": MPIEXEC,\n",
    "    \"local_directory\": \"/tmp\",\n",
    "    \"queue\": \"batch\",\n",
    "}"
   ]
  },
  {
   "cell_type": "markdown",
   "id": "latin-police",
   "metadata": {},
   "source": [
    "Let's start cluster."
   ]
  },
  {
   "cell_type": "code",
   "execution_count": null,
   "id": "bound-amendment",
   "metadata": {},
   "outputs": [],
   "source": [
    "fork_cluster = CustomSLURMCluster(\n",
    "    name=\"fork_cluster\",\n",
    "    fork_mpi=True,\n",
    "    nodes=2,\n",
    "    **common_kwargs\n",
    ")"
   ]
  },
  {
   "cell_type": "markdown",
   "id": "lonely-alert",
   "metadata": {},
   "source": [
    "Let's define task."
   ]
  },
  {
   "cell_type": "code",
   "execution_count": null,
   "id": "simple-bibliography",
   "metadata": {},
   "outputs": [],
   "source": [
    "@on_cluster(cluster=fork_cluster)\n",
    "@mpi_task(cluster_id=fork_cluster.name)\n",
    "def mpi_wrap_task(**kwargs):\n",
    "    return mpi_wrap(**kwargs)"
   ]
  },
  {
   "cell_type": "markdown",
   "id": "cutting-fiber",
   "metadata": {},
   "source": [
    "First check if we can construct the command:"
   ]
  },
  {
   "cell_type": "code",
   "execution_count": null,
   "id": "requested-scientist",
   "metadata": {},
   "outputs": [],
   "source": [
    "result = mpi_wrap_task(\n",
    "    executable=\"python\",\n",
    "    exec_args=script_path,\n",
    "    return_wrapped_command=True\n",
    ")\n",
    "result = result.result()\n",
    "print(result)"
   ]
  },
  {
   "cell_type": "markdown",
   "id": "sophisticated-species",
   "metadata": {},
   "source": [
    "Then check the execution of it:"
   ]
  },
  {
   "cell_type": "code",
   "execution_count": null,
   "id": "chemical-charge",
   "metadata": {},
   "outputs": [],
   "source": [
    "result = mpi_wrap_task(\n",
    "    executable=\"python\",\n",
    "    exec_args=script_path\n",
    ")\n",
    "result = result.result()\n",
    "print(result[\"out\"])"
   ]
  },
  {
   "cell_type": "markdown",
   "id": "informational-muslim",
   "metadata": {},
   "source": [
    "It's alive!"
   ]
  }
 ],
 "metadata": {
  "kernelspec": {
   "display_name": "Python 3",
   "language": "python",
   "name": "python3"
  },
  "language_info": {
   "codemirror_mode": {
    "name": "ipython",
    "version": 3
   },
   "file_extension": ".py",
   "mimetype": "text/x-python",
   "name": "python",
   "nbconvert_exporter": "python",
   "pygments_lexer": "ipython3",
   "version": "3.6.12"
  }
 },
 "nbformat": 4,
 "nbformat_minor": 5
}